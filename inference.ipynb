{
 "cells": [
  {
   "cell_type": "markdown",
   "metadata": {},
   "source": [
    "## Tacotron 2 inference code \n",
    "Edit the variables **checkpoint_path** and **text** to match yours and run the entire code to generate plots of mel outputs, alignments and audio synthesis from the generated mel-spectrogram using Griffin-Lim."
   ]
  },
  {
   "cell_type": "markdown",
   "metadata": {},
   "source": [
    "#### Import libraries and setup matplotlib"
   ]
  },
  {
   "cell_type": "code",
   "execution_count": 4,
   "metadata": {},
   "outputs": [
    {
     "name": "stdout",
     "output_type": "stream",
     "text": [
      "Requirement already satisfied: tensorflow-gpu==1.15 in d:\\programdata\\anaconda3\\envs\\tacotron2_36\\lib\\site-packages (1.15.0)\n",
      "Requirement already satisfied: absl-py>=0.7.0 in d:\\programdata\\anaconda3\\envs\\tacotron2_36\\lib\\site-packages (from tensorflow-gpu==1.15) (0.11.0)\n",
      "Requirement already satisfied: tensorboard<1.16.0,>=1.15.0 in d:\\programdata\\anaconda3\\envs\\tacotron2_36\\lib\\site-packages (from tensorflow-gpu==1.15) (1.15.0)\n",
      "Requirement already satisfied: protobuf>=3.6.1 in d:\\programdata\\anaconda3\\envs\\tacotron2_36\\lib\\site-packages (from tensorflow-gpu==1.15) (3.14.0)\n",
      "Requirement already satisfied: grpcio>=1.8.6 in d:\\programdata\\anaconda3\\envs\\tacotron2_36\\lib\\site-packages (from tensorflow-gpu==1.15) (1.34.0)\n",
      "Requirement already satisfied: wheel>=0.26 in d:\\programdata\\anaconda3\\envs\\tacotron2_36\\lib\\site-packages (from tensorflow-gpu==1.15) (0.36.0)\n",
      "Requirement already satisfied: astor>=0.6.0 in d:\\programdata\\anaconda3\\envs\\tacotron2_36\\lib\\site-packages (from tensorflow-gpu==1.15) (0.8.1)\n",
      "Requirement already satisfied: gast==0.2.2 in d:\\programdata\\anaconda3\\envs\\tacotron2_36\\lib\\site-packages (from tensorflow-gpu==1.15) (0.2.2)\n",
      "Requirement already satisfied: keras-preprocessing>=1.0.5 in d:\\programdata\\anaconda3\\envs\\tacotron2_36\\lib\\site-packages (from tensorflow-gpu==1.15) (1.1.2)\n",
      "Requirement already satisfied: tensorflow-estimator==1.15.1 in d:\\programdata\\anaconda3\\envs\\tacotron2_36\\lib\\site-packages (from tensorflow-gpu==1.15) (1.15.1)\n",
      "Requirement already satisfied: termcolor>=1.1.0 in d:\\programdata\\anaconda3\\envs\\tacotron2_36\\lib\\site-packages (from tensorflow-gpu==1.15) (1.1.0)\n",
      "Requirement already satisfied: google-pasta>=0.1.6 in d:\\programdata\\anaconda3\\envs\\tacotron2_36\\lib\\site-packages (from tensorflow-gpu==1.15) (0.2.0)\n",
      "Requirement already satisfied: wrapt>=1.11.1 in d:\\programdata\\anaconda3\\envs\\tacotron2_36\\lib\\site-packages (from tensorflow-gpu==1.15) (1.12.1)\n",
      "Requirement already satisfied: opt-einsum>=2.3.2 in d:\\programdata\\anaconda3\\envs\\tacotron2_36\\lib\\site-packages (from tensorflow-gpu==1.15) (3.3.0)\n",
      "Requirement already satisfied: keras-applications>=1.0.8 in d:\\programdata\\anaconda3\\envs\\tacotron2_36\\lib\\site-packages (from tensorflow-gpu==1.15) (1.0.8)\n",
      "Requirement already satisfied: six>=1.10.0 in d:\\programdata\\anaconda3\\envs\\tacotron2_36\\lib\\site-packages (from tensorflow-gpu==1.15) (1.15.0)\n",
      "Requirement already satisfied: numpy<2.0,>=1.16.0 in d:\\programdata\\anaconda3\\envs\\tacotron2_36\\lib\\site-packages (from tensorflow-gpu==1.15) (1.16.4)\n",
      "Requirement already satisfied: six>=1.10.0 in d:\\programdata\\anaconda3\\envs\\tacotron2_36\\lib\\site-packages (from tensorflow-gpu==1.15) (1.15.0)\n",
      "Requirement already satisfied: six>=1.10.0 in d:\\programdata\\anaconda3\\envs\\tacotron2_36\\lib\\site-packages (from tensorflow-gpu==1.15) (1.15.0)\n",
      "Requirement already satisfied: six>=1.10.0 in d:\\programdata\\anaconda3\\envs\\tacotron2_36\\lib\\site-packages (from tensorflow-gpu==1.15) (1.15.0)\n",
      "Requirement already satisfied: h5py in d:\\programdata\\anaconda3\\envs\\tacotron2_36\\lib\\site-packages (from keras-applications>=1.0.8->tensorflow-gpu==1.15) (3.1.0)\n",
      "Requirement already satisfied: numpy<2.0,>=1.16.0 in d:\\programdata\\anaconda3\\envs\\tacotron2_36\\lib\\site-packages (from tensorflow-gpu==1.15) (1.16.4)\n",
      "Requirement already satisfied: numpy<2.0,>=1.16.0 in d:\\programdata\\anaconda3\\envs\\tacotron2_36\\lib\\site-packages (from tensorflow-gpu==1.15) (1.16.4)\n",
      "Requirement already satisfied: cached-property in d:\\programdata\\anaconda3\\envs\\tacotron2_36\\lib\\site-packages (from h5py->keras-applications>=1.0.8->tensorflow-gpu==1.15) (1.5.2)\n",
      "Requirement already satisfied: six>=1.10.0 in d:\\programdata\\anaconda3\\envs\\tacotron2_36\\lib\\site-packages (from tensorflow-gpu==1.15) (1.15.0)\n",
      "Requirement already satisfied: numpy<2.0,>=1.16.0 in d:\\programdata\\anaconda3\\envs\\tacotron2_36\\lib\\site-packages (from tensorflow-gpu==1.15) (1.16.4)\n",
      "Requirement already satisfied: numpy<2.0,>=1.16.0 in d:\\programdata\\anaconda3\\envs\\tacotron2_36\\lib\\site-packages (from tensorflow-gpu==1.15) (1.16.4)\n",
      "Requirement already satisfied: six>=1.10.0 in d:\\programdata\\anaconda3\\envs\\tacotron2_36\\lib\\site-packages (from tensorflow-gpu==1.15) (1.15.0)\n",
      "Requirement already satisfied: wheel>=0.26 in d:\\programdata\\anaconda3\\envs\\tacotron2_36\\lib\\site-packages (from tensorflow-gpu==1.15) (0.36.0)\n",
      "Requirement already satisfied: absl-py>=0.7.0 in d:\\programdata\\anaconda3\\envs\\tacotron2_36\\lib\\site-packages (from tensorflow-gpu==1.15) (0.11.0)\n",
      "Requirement already satisfied: six>=1.10.0 in d:\\programdata\\anaconda3\\envs\\tacotron2_36\\lib\\site-packages (from tensorflow-gpu==1.15) (1.15.0)\n",
      "Requirement already satisfied: protobuf>=3.6.1 in d:\\programdata\\anaconda3\\envs\\tacotron2_36\\lib\\site-packages (from tensorflow-gpu==1.15) (3.14.0)\n",
      "Requirement already satisfied: grpcio>=1.8.6 in d:\\programdata\\anaconda3\\envs\\tacotron2_36\\lib\\site-packages (from tensorflow-gpu==1.15) (1.34.0)\n",
      "Requirement already satisfied: numpy<2.0,>=1.16.0 in d:\\programdata\\anaconda3\\envs\\tacotron2_36\\lib\\site-packages (from tensorflow-gpu==1.15) (1.16.4)\n",
      "Requirement already satisfied: markdown>=2.6.8 in d:\\programdata\\anaconda3\\envs\\tacotron2_36\\lib\\site-packages (from tensorboard<1.16.0,>=1.15.0->tensorflow-gpu==1.15) (3.3.3)\n",
      "Requirement already satisfied: setuptools>=41.0.0 in d:\\programdata\\anaconda3\\envs\\tacotron2_36\\lib\\site-packages (from tensorboard<1.16.0,>=1.15.0->tensorflow-gpu==1.15) (50.3.2.post20201202)\n",
      "Requirement already satisfied: werkzeug>=0.11.15 in d:\\programdata\\anaconda3\\envs\\tacotron2_36\\lib\\site-packages (from tensorboard<1.16.0,>=1.15.0->tensorflow-gpu==1.15) (1.0.1)\n",
      "Requirement already satisfied: importlib-metadata in d:\\programdata\\anaconda3\\envs\\tacotron2_36\\lib\\site-packages (from markdown>=2.6.8->tensorboard<1.16.0,>=1.15.0->tensorflow-gpu==1.15) (3.1.1)\n",
      "Requirement already satisfied: zipp>=0.5 in d:\\programdata\\anaconda3\\envs\\tacotron2_36\\lib\\site-packages (from importlib-metadata->markdown>=2.6.8->tensorboard<1.16.0,>=1.15.0->tensorflow-gpu==1.15) (3.4.0)\n",
      "Requirement already satisfied: matplotlib in d:\\programdata\\anaconda3\\envs\\tacotron2_36\\lib\\site-packages (2.1.0)\n",
      "Requirement already satisfied: numpy>=1.7.1 in d:\\programdata\\anaconda3\\envs\\tacotron2_36\\lib\\site-packages (from matplotlib) (1.16.4)\n",
      "Requirement already satisfied: six>=1.10 in d:\\programdata\\anaconda3\\envs\\tacotron2_36\\lib\\site-packages (from matplotlib) (1.15.0)\n",
      "Requirement already satisfied: python-dateutil>=2.0 in d:\\programdata\\anaconda3\\envs\\tacotron2_36\\lib\\site-packages (from matplotlib) (2.8.1)\n",
      "Requirement already satisfied: pytz in d:\\programdata\\anaconda3\\envs\\tacotron2_36\\lib\\site-packages (from matplotlib) (2020.4)\n",
      "Requirement already satisfied: cycler>=0.10 in d:\\programdata\\anaconda3\\envs\\tacotron2_36\\lib\\site-packages (from matplotlib) (0.10.0)\n",
      "Requirement already satisfied: pyparsing!=2.0.4,!=2.1.2,!=2.1.6,>=2.0.1 in d:\\programdata\\anaconda3\\envs\\tacotron2_36\\lib\\site-packages (from matplotlib) (2.4.7)\n",
      "Requirement already satisfied: six>=1.10 in d:\\programdata\\anaconda3\\envs\\tacotron2_36\\lib\\site-packages (from matplotlib) (1.15.0)\n",
      "Requirement already satisfied: six>=1.10 in d:\\programdata\\anaconda3\\envs\\tacotron2_36\\lib\\site-packages (from matplotlib) (1.15.0)\n"
     ]
    }
   ],
   "source": [
    "!pip install tensorflow-gpu==1.15\n",
    "!pip install matplotlib"
   ]
  },
  {
   "cell_type": "code",
   "execution_count": 3,
   "metadata": {},
   "outputs": [
    {
     "ename": "ModuleNotFoundError",
     "evalue": "No module named 'tensorflow'",
     "output_type": "error",
     "traceback": [
      "\u001b[1;31m---------------------------------------------------------------------------\u001b[0m",
      "\u001b[1;31mModuleNotFoundError\u001b[0m                       Traceback (most recent call last)",
      "\u001b[1;32m<ipython-input-3-1e40ea2a3544>\u001b[0m in \u001b[0;36m<module>\u001b[1;34m\u001b[0m\n\u001b[0;32m     10\u001b[0m \u001b[1;32mimport\u001b[0m \u001b[0mtorch\u001b[0m\u001b[1;33m\u001b[0m\u001b[1;33m\u001b[0m\u001b[0m\n\u001b[0;32m     11\u001b[0m \u001b[1;33m\u001b[0m\u001b[0m\n\u001b[1;32m---> 12\u001b[1;33m \u001b[1;32mfrom\u001b[0m \u001b[0mhparams\u001b[0m \u001b[1;32mimport\u001b[0m \u001b[0mcreate_hparams\u001b[0m\u001b[1;33m\u001b[0m\u001b[1;33m\u001b[0m\u001b[0m\n\u001b[0m\u001b[0;32m     13\u001b[0m \u001b[1;32mfrom\u001b[0m \u001b[0mmodel\u001b[0m \u001b[1;32mimport\u001b[0m \u001b[0mTacotron2\u001b[0m\u001b[1;33m\u001b[0m\u001b[1;33m\u001b[0m\u001b[0m\n\u001b[0;32m     14\u001b[0m \u001b[1;32mfrom\u001b[0m \u001b[0mlayers\u001b[0m \u001b[1;32mimport\u001b[0m \u001b[0mTacotronSTFT\u001b[0m\u001b[1;33m,\u001b[0m \u001b[0mSTFT\u001b[0m\u001b[1;33m\u001b[0m\u001b[1;33m\u001b[0m\u001b[0m\n",
      "\u001b[1;32mD:\\Workspace\\Luan_Van\\tacotron2\\hparams.py\u001b[0m in \u001b[0;36m<module>\u001b[1;34m\u001b[0m\n\u001b[1;32m----> 1\u001b[1;33m \u001b[1;32mimport\u001b[0m \u001b[0mtensorflow\u001b[0m \u001b[1;32mas\u001b[0m \u001b[0mtf\u001b[0m\u001b[1;33m\u001b[0m\u001b[1;33m\u001b[0m\u001b[0m\n\u001b[0m\u001b[0;32m      2\u001b[0m \u001b[1;32mfrom\u001b[0m \u001b[0mtext\u001b[0m \u001b[1;32mimport\u001b[0m \u001b[0msymbols\u001b[0m\u001b[1;33m\u001b[0m\u001b[1;33m\u001b[0m\u001b[0m\n\u001b[0;32m      3\u001b[0m \u001b[1;33m\u001b[0m\u001b[0m\n\u001b[0;32m      4\u001b[0m \u001b[1;33m\u001b[0m\u001b[0m\n\u001b[0;32m      5\u001b[0m \u001b[1;32mdef\u001b[0m \u001b[0mcreate_hparams\u001b[0m\u001b[1;33m(\u001b[0m\u001b[0mhparams_string\u001b[0m\u001b[1;33m=\u001b[0m\u001b[1;32mNone\u001b[0m\u001b[1;33m,\u001b[0m \u001b[0mverbose\u001b[0m\u001b[1;33m=\u001b[0m\u001b[1;32mFalse\u001b[0m\u001b[1;33m)\u001b[0m\u001b[1;33m:\u001b[0m\u001b[1;33m\u001b[0m\u001b[1;33m\u001b[0m\u001b[0m\n",
      "\u001b[1;31mModuleNotFoundError\u001b[0m: No module named 'tensorflow'"
     ]
    }
   ],
   "source": [
    "import matplotlib\n",
    "%matplotlib inline\n",
    "import matplotlib.pylab as plt\n",
    "\n",
    "import IPython.display as ipd\n",
    "\n",
    "import sys\n",
    "sys.path.append('waveglow/')\n",
    "import numpy as np\n",
    "import torch\n",
    "\n",
    "from hparams import create_hparams\n",
    "from model import Tacotron2\n",
    "from layers import TacotronSTFT, STFT\n",
    "from audio_processing import griffin_lim\n",
    "from train import load_model\n",
    "from text import text_to_sequence\n",
    "from denoiser import Denoiser"
   ]
  },
  {
   "cell_type": "code",
   "execution_count": null,
   "metadata": {},
   "outputs": [],
   "source": [
    "def plot_data(data, figsize=(16, 4)):\n",
    "    fig, axes = plt.subplots(1, len(data), figsize=figsize)\n",
    "    for i in range(len(data)):\n",
    "        axes[i].imshow(data[i], aspect='auto', origin='bottom', \n",
    "                       interpolation='none')"
   ]
  },
  {
   "cell_type": "markdown",
   "metadata": {},
   "source": [
    "#### Setup hparams"
   ]
  },
  {
   "cell_type": "code",
   "execution_count": null,
   "metadata": {},
   "outputs": [],
   "source": [
    "hparams = create_hparams()\n",
    "hparams.sampling_rate = 22050"
   ]
  },
  {
   "cell_type": "markdown",
   "metadata": {},
   "source": [
    "#### Load model from checkpoint"
   ]
  },
  {
   "cell_type": "code",
   "execution_count": null,
   "metadata": {},
   "outputs": [],
   "source": [
    "checkpoint_path = \"tacotron2_statedict.pt\"\n",
    "model = load_model(hparams)\n",
    "model.load_state_dict(torch.load(checkpoint_path)['state_dict'])\n",
    "_ = model.cuda().eval().half()"
   ]
  },
  {
   "cell_type": "markdown",
   "metadata": {},
   "source": [
    "#### Load WaveGlow for mel2audio synthesis and denoiser"
   ]
  },
  {
   "cell_type": "code",
   "execution_count": null,
   "metadata": {},
   "outputs": [],
   "source": [
    "waveglow_path = 'waveglow_256channels.pt'\n",
    "waveglow = torch.load(waveglow_path)['model']\n",
    "waveglow.cuda().eval().half()\n",
    "for k in waveglow.convinv:\n",
    "    k.float()\n",
    "denoiser = Denoiser(waveglow)"
   ]
  },
  {
   "cell_type": "markdown",
   "metadata": {},
   "source": [
    "#### Prepare text input"
   ]
  },
  {
   "cell_type": "code",
   "execution_count": null,
   "metadata": {},
   "outputs": [],
   "source": [
    "text = \"Waveglow is really awesome!\"\n",
    "sequence = np.array(text_to_sequence(text, ['english_cleaners']))[None, :]\n",
    "sequence = torch.autograd.Variable(\n",
    "    torch.from_numpy(sequence)).cuda().long()"
   ]
  },
  {
   "cell_type": "markdown",
   "metadata": {},
   "source": [
    "#### Decode text input and plot results"
   ]
  },
  {
   "cell_type": "code",
   "execution_count": null,
   "metadata": {
    "scrolled": true
   },
   "outputs": [],
   "source": [
    "mel_outputs, mel_outputs_postnet, _, alignments = model.inference(sequence)\n",
    "plot_data((mel_outputs.float().data.cpu().numpy()[0],\n",
    "           mel_outputs_postnet.float().data.cpu().numpy()[0],\n",
    "           alignments.float().data.cpu().numpy()[0].T))"
   ]
  },
  {
   "cell_type": "markdown",
   "metadata": {},
   "source": [
    "#### Synthesize audio from spectrogram using WaveGlow"
   ]
  },
  {
   "cell_type": "code",
   "execution_count": null,
   "metadata": {},
   "outputs": [],
   "source": [
    "with torch.no_grad():\n",
    "    audio = waveglow.infer(mel_outputs_postnet, sigma=0.666)\n",
    "ipd.Audio(audio[0].data.cpu().numpy(), rate=hparams.sampling_rate)"
   ]
  },
  {
   "cell_type": "markdown",
   "metadata": {},
   "source": [
    "#### (Optional) Remove WaveGlow bias"
   ]
  },
  {
   "cell_type": "code",
   "execution_count": null,
   "metadata": {},
   "outputs": [],
   "source": [
    "audio_denoised = denoiser(audio, strength=0.01)[:, 0]\n",
    "ipd.Audio(audio_denoised.cpu().numpy(), rate=hparams.sampling_rate) "
   ]
  }
 ],
 "metadata": {
  "kernelspec": {
   "display_name": "Python 3",
   "language": "python",
   "name": "python3"
  },
  "language_info": {
   "codemirror_mode": {
    "name": "ipython",
    "version": 3
   },
   "file_extension": ".py",
   "mimetype": "text/x-python",
   "name": "python",
   "nbconvert_exporter": "python",
   "pygments_lexer": "ipython3",
   "version": "3.8.3"
  }
 },
 "nbformat": 4,
 "nbformat_minor": 2
}
